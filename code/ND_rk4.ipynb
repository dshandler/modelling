{
 "cells": [
  {
   "cell_type": "markdown",
   "metadata": {},
   "source": [
    "# Neurodynamics Assignment (Honours)\n",
    "(2019)"
   ]
  },
  {
   "cell_type": "markdown",
   "metadata": {},
   "source": [
    "You need to analyze a research paper and to build a randomly connected excitatory-inhibitory neural network, as described in Brunel 00. Then you need to simulate the network model to reproduce the four different kinds of firing states as shown in Figure 8 of the paper.\n",
    "\n",
    "When the network is around a balanced state, you need to add external perturbations to some neurons, investigating how the system responds to these perturbations.\n",
    "\n",
    "For the students with good analytic skills, please fllow the mathematical analysis part of the paper. If  possible, develop new methods to analyze the stability of the differnt kinds of firing states.\n",
    "\n",
    "N. Brunel, Dynamics of sparsely connected networks of excitatory and inhibitory neurons, Journal of Computational Neuroscience, 8:183-208 (2000)."
   ]
  },
  {
   "cell_type": "code",
   "execution_count": null,
   "metadata": {},
   "outputs": [],
   "source": [
    "import pandas as pd\n",
    "import numpy as np\n",
    "import math\n",
    "import matplotlib\n",
    "import matplotlib.pyplot as plt\n",
    "import matplotlib.animation as animation\n",
    "%matplotlib inline\n",
    "import time"
   ]
  },
  {
   "cell_type": "code",
   "execution_count": 2,
   "metadata": {},
   "outputs": [],
   "source": [
    "#Define network parameters for model A: inhibitory and excitatory neurons have identical characteristics\n",
    "N =  int(12500)#number of neurons\n",
    "N_e = int(0.8*N) # number of excitatory neurons\n",
    "N_i = int(0.2*N) # number of inhibitory neurons\n",
    "\n",
    "C_e = int(1000) #4*C_i#number of connections each neuron receives from excitatory neurons\n",
    "C_i = int(0.25*C_e) #number of connections each neuron receives from inhibitory neurons\n",
    "C_ext = C_e #number of connections from outside the network\n",
    "\n",
    "tau_e = 20e-3 #excitatory integration time constant\n",
    "tau_rp = 2e-3 #refractory period (insensitive to stimulation)\n",
    "theta = 20e-3 #firing threshold\n",
    "V_r = 10e-3 #reset potential\n",
    "\n",
    "g = np.array([3,6,5,4.5])#relative strength of inhibitory synapses\n",
    "J = 0.1e-3 #postsynaptic potential (PSP) amplitude\n",
    "D = 1.5e-3 # transmission delay\n",
    "nu_extthr = np.array([2,4,2,0.9])#ratio of frequency of the external input to frequency that is needed for a \n",
    "            #neuron to reach threshold in absence of feedback\n",
    "nu_thr = theta/(J*C_e*tau_e)\n",
    "\n",
    "fig = 2\n",
    "g_i = g[fig]\n",
    "nu_ext = nu_extthr[fig]*nu_thr"
   ]
  },
  {
   "cell_type": "code",
   "execution_count": 3,
   "metadata": {},
   "outputs": [
    {
     "name": "stdout",
     "output_type": "stream",
     "text": [
      "3.1302187080000294\n"
     ]
    }
   ],
   "source": [
    "deltat = 0.1e-3\n",
    "totalt = 0.05\n",
    "nsteps = int(np.round(totalt/deltat))\n",
    "index = np.arange(0,nsteps)\n",
    "\n",
    "#initialise internal neurons\n",
    "#Generate connections for excitatory and inhibitory neurons\n",
    "t0 = time.perf_counter()\n",
    "e_connections =np.zeros((N,N))\n",
    "i_connections =np.zeros((N,N))\n",
    "for col in np.arange(N):\n",
    "    samecol = True\n",
    "    while samecol==True:\n",
    "        connect_e = np.random.choice(np.arange(N_e),size=C_e,replace=False)\n",
    "        samecol = connect_e==col\n",
    "        samecol = samecol.any()\n",
    "    \n",
    "    for row in connect_e:\n",
    "        e_connections[row,col] = 1 # each neuron gets C_e excite neurons\n",
    "         \n",
    "for col in np.arange(N):\n",
    "    samecol = True\n",
    "    while samecol==True:\n",
    "        connect_e = np.random.choice(np.arange(N_e,N),size=C_i,replace=False)\n",
    "        samecol = connect_e==col\n",
    "        samecol = samecol.any()\n",
    "    for row in connect_e:\n",
    "        i_connections[row,col] = 1 # excite-to-inhib\n",
    "    \n",
    "\n",
    "#all_connections=all_connections_e+all_connections_i\n",
    "print(time.perf_counter() -t0)  "
   ]
  },
  {
   "cell_type": "code",
   "execution_count": 4,
   "metadata": {},
   "outputs": [],
   "source": [
    "def IVP(potential,actionpot,e_connections,i_connections,\n",
    "        D,deltat,J,g_i,C_ext,nu_ext):\n",
    "    '''\n",
    "    Solves the initial value problem a connected excitatory-inhibitory \n",
    "    neural network.\n",
    "    '''\n",
    "    def rhs(v,tau_e,dt):\n",
    "        '''\n",
    "        returns the right hand side required to solve the initial value\n",
    "        problem.\n",
    "        '''\n",
    "\n",
    "        dv = (-v/tau_e)\n",
    "        \n",
    "        return dv*dt\n",
    "    \n",
    "    # initialise parameters\n",
    "    nsteps = np.arange(potential.shape[0])\n",
    "    delayt = int(D/deltat)\n",
    "    refract = int(tau_rp/deltat)\n",
    "    v = potential[refract-1,:]\n",
    "    \n",
    "    dt = deltat\n",
    "    t0 = time.perf_counter()\n",
    "    \n",
    "    for n in nsteps[refract:refract+500]:\n",
    "        #Find all neurons that fired at delayt time ago\n",
    "        spike = actionpot[n-delayt,:]\n",
    "        spike_ext = np.random.poisson(deltat*nu_ext, size=(C_ext,N)).sum(axis=0)\n",
    "        spike_excite = spike.dot(e_connections) #all excitatory connections that fired\n",
    "        spike_inhib = spike.dot(i_connections) #all inhibitory connections that fired\n",
    "        \n",
    "        #discontinous change in current from all connections\n",
    "        v = v + J*spike_excite-g_i*J*spike_inhib+J*spike_ext\n",
    "        \n",
    "        # RK4 step\n",
    "        f1 = rhs(v,tau_e,dt) \n",
    "        f2 = rhs(v+0.5*f1,tau_e,dt)\n",
    "        f3 = rhs(v+0.5*f2,tau_e,dt)\n",
    "        f4 = rhs(v+f3,tau_e,dt)\n",
    "        \n",
    "        # update new potential for each neuron at step n\n",
    "        v = v + (f1+2*f2+2*f3+f4)/6\n",
    "        \n",
    "        # check refractory period and replace neurons that \n",
    "        # shouldn't have a change of potential\n",
    "        x1 = actionpot[n-refract:n]==1\n",
    "        rf_period = np.any(x1,axis=0)\n",
    "        v[rf_period] = V_r\n",
    "        potential[n,:] = v[0]\n",
    "        \n",
    "        # locate all neurons that are above firing threshold at step n\n",
    "        # set neurons to fire as 1 and those that won't as 0\n",
    "        fire = np.where(v>= theta, 1, 0)\n",
    "        actionpot[n,:] = fire\n",
    "    print(time.perf_counter() - t0)\n",
    "    return potential, actionpot"
   ]
  },
  {
   "cell_type": "code",
   "execution_count": 5,
   "metadata": {},
   "outputs": [
    {
     "name": "stdout",
     "output_type": "stream",
     "text": [
      "70.07847016699816\n"
     ]
    }
   ],
   "source": [
    "idx_init = int(tau_rp/deltat)\n",
    "\n",
    "potential = np.zeros((nsteps,N))\n",
    "potential_init = V_r + (theta-V_r)*np.random.rand(1,N)\n",
    "potential[idx_init-1,:] = potential_init[0]\n",
    "actionpot = np.zeros((nsteps,N))\n",
    "\n",
    "\n",
    "\n",
    "potential, actionpot = IVP(potential,actionpot,\n",
    "                           e_connections,i_connections,\n",
    "                           D,deltat,J,g_i,C_ext,nu_ext)"
   ]
  },
  {
   "cell_type": "code",
   "execution_count": 6,
   "metadata": {},
   "outputs": [
    {
     "data": {
      "text/plain": [
       "(10.0, 200.0)"
      ]
     },
     "execution_count": 6,
     "metadata": {},
     "output_type": "execute_result"
    },
    {
     "data": {
      "image/png": "[encoded data removed]",
      "text/plain": [
       "<Figure size 1000x600 with 2 Axes>"
      ]
     },
     "metadata": {},
     "output_type": "display_data"
    }
   ],
   "source": [
    "fig,ax=plt.subplots(2,1,figsize=(10,6))\n",
    "activity3 = actionpot.sum(axis=1)\n",
    "a=0\n",
    "b=20000\n",
    "x = np.arange(potential.shape[0])\n",
    "for i in np.arange(50):\n",
    "    ax[0].scatter(x*1e-2,actionpot[a:b,N_e-25+i]*10*i,marker='|')\n",
    "ax[1].bar(x*1e-1,activity3[a:b],width=1)\n",
    "ax[0].set_ylim(1*10,20*10)"
   ]
  }
 ],
 "metadata": {
  "kernelspec": {
   "display_name": "yolo-env",
   "language": "python",
   "name": "yolo-env"
  },
  "language_info": {
   "codemirror_mode": {
    "name": "ipython",
    "version": 3
   },
   "file_extension": ".py",
   "mimetype": "text/x-python",
   "name": "python",
   "nbconvert_exporter": "python",
   "pygments_lexer": "ipython3",
   "version": "3.11.5"
  }
 },
 "nbformat": 4,
 "nbformat_minor": 2
}
